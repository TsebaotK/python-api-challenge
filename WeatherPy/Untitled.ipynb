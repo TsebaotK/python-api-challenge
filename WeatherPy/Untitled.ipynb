{
 "cells": [
  {
   "cell_type": "code",
   "execution_count": 1,
   "id": "03bbe010",
   "metadata": {},
   "outputs": [
    {
     "name": "stdout",
     "output_type": "stream",
     "text": [
      "Collecting citipy\n",
      "  Downloading citipy-0.0.5.tar.gz (557 kB)\n",
      "     -------------------------------------- 557.7/557.7 kB 3.9 MB/s eta 0:00:00\n",
      "  Preparing metadata (setup.py): started\n",
      "  Preparing metadata (setup.py): finished with status 'done'\n",
      "Collecting kdtree>=0.12\n",
      "  Downloading kdtree-0.16-py2.py3-none-any.whl (7.7 kB)\n",
      "Building wheels for collected packages: citipy\n",
      "  Building wheel for citipy (setup.py): started\n",
      "  Building wheel for citipy (setup.py): finished with status 'done'\n",
      "  Created wheel for citipy: filename=citipy-0.0.5-py3-none-any.whl size=559686 sha256=080a6e53e615ec5061cbbe3f9fa43eff9e9028806a345128fa20f4da6a8157cc\n",
      "  Stored in directory: c:\\users\\tsebaot\\appdata\\local\\pip\\cache\\wheels\\d9\\dd\\68\\8cc0be16282b0fcae5acb7280b47d31952f203c401923a8c1e\n",
      "Successfully built citipy\n",
      "Installing collected packages: kdtree, citipy\n",
      "Successfully installed citipy-0.0.5 kdtree-0.16\n",
      "Note: you may need to restart the kernel to use updated packages.\n"
     ]
    }
   ],
   "source": [
    "pip install citipy \n"
   ]
  },
  {
   "cell_type": "code",
   "execution_count": 2,
   "id": "4ddb67ce",
   "metadata": {},
   "outputs": [],
   "source": [
    "# Dependencies and Setup\n",
    "import matplotlib.pyplot as plt\n",
    "import pandas as pd\n",
    "import numpy as np\n",
    "import requests\n",
    "import time\n",
    "from scipy.stats import linregress\n",
    "\n",
    "# Impor the OpenWeatherMap API key\n",
    "from api_keys import weather_api_key\n",
    "\n",
    "# Import citipy to determine the cities based on latitude and longitude\n",
    "from citipy import citipy"
   ]
  },
  {
   "cell_type": "code",
   "execution_count": 4,
   "id": "0675f064",
   "metadata": {},
   "outputs": [
    {
     "name": "stdout",
     "output_type": "stream",
     "text": [
      "['gamba', 'georgetown', 'bubaque', 'bonthe', 'kinkala', 'gemena', 'jamestown', 'kpalime', 'buchanan', 'harper', 'yenagoa', 'bonoua', 'port-gentil', 'goderich', 'lafiagi', 'inongo', 'mpraeso', 'anloga', 'bibiani', 'beboto', 'mumford', 'riaba', 'kikwit', 'koindu', 'axim', 'bouna', 'omboue', 'djambala', 'kerouane', 'mattru', 'meiganga', 'monrovia', 'winneba', 'caxito', 'tabou', 'ouesso', 'mossendjo', 'mayumba', 'lagos', 'bandundu', 'mitzic', 'abonnema', 'malanje', 'takoradi', 'sembe', 'ondo', 'jacqueville', 'cabinda', 'boali', 'soyo', 'bocanda', 'gboko', 'tabligbo', 'boda', 'mbaiki', 'aboso', 'kasongo-lunda', 'beinamar', 'warri', 'owando', 'luanda', 'kabo', 'lokoja', 'mbandaka', 'mbanza-ngungu', 'kagoro', 'tsogni', 'saurimo', 'loandjili', 'odienne', 'grand-lahou', 'teshie', 'wukari', 'bocaranga', 'kissidougou', 'ewo', 'aneho', 'techiman', 'yokadouma', 'nioki', 'san-pedro', 'jalingo', 'moissala', 'bossangoa', 'tchaourou', 'bafia', 'loubomo', 'bindi', 'makokou', 'kamakwie', 'pala', 'modakeke', 'nkongsamba', 'kukuna', 'acurenam', 'doume', 'ndende', 'baoro', 'bitam', 'opobo', 'tanda', 'grimari', 'parakou', 'cove', 'gbarnga', 'olupona', 'sibiti', 'sotouboua', 'kumo', 'berekum', 'nola', 'ngaoundere', 'tchollire', 'bertoua', 'robertsport', 'uige', 'poli', 'guekedou', 'garoua', 'eruwa', 'cape coast', 'oume', 'mimongo', 'abomey-calavi', 'aboisso', 'tokonou', 'paoua', 'luba', 'ntoum', 'cotonou', 'kafanchan', 'numan', 'matadi', 'carnot', 'mangai', 'bol', 'bida', 'sibut', 'minna', 'bouar', 'daoukro', 'kinshasa', 'lucapa', 'nanga eboko', 'jojoima', 'tamale', 'libreville', 'camabatela', 'ikom', 'booue', 'betare oya', 'umuahia', 'ferkessedougou', 'benin', 'rokupr', 'akom', 'tshikapa', 'binga', 'micomeseng', 'mbini', 'dabakala', 'gamboula', 'otukpo', 'keffi', 'bolobo', 'dekoa', 'bulungu', 'tibati', 'akonolinga', 'bossembele', 'cocobeach', 'eseka', 'accra', 'wa', 'kango', 'shaki', 'ogbomosho', 'beterou', 'djougou', 'kyabe', 'garoua boulai', 'ganta', 'ndjole', 'ankpa', 'agnibilekrou', 'salaga', 'lai', 'forecariah', 'mounana', 'danane', 'doba', 'bumbuna', 'bata', 'ekpoma', 'mongomo', 'matsanga', 'kibala', 'bomi', 'mvangue', 'lokossa', 'bouafle', 'sangueya', 'koforidua', 'tarkwa', 'toumodi', 'abong mbang', 'kumba', 'makurdi', 'damara', 'oyem', 'guiglo', 'bozoum', 'baboua', 'katiola', 'batouri', 'conakry', 'lekoni', 'jos', 'foumban', 'aplahoue', 'kelo', 'edea', 'okandja', 'nkoteng', 'kontagora', 'yomou', 'epe', 'kribi', 'elmina', 'macenta', 'bauchi', 'sangmelima', 'sassandra', 'zwedru', 'calabar', 'boma', 'sokode', 'prestea', 'touba', 'ibadan', 'ughelli', 'savelugu', 'malabo', 'mme', 'ouidah', 'owerri', 'bassila', 'fougamou', 'tignere', 'amaigbo', 'banyo', 'boffa', 'nkawkaw', 'rey bouba', 'koulamoutou', 'zuenoula', 'nsukka', 'dimbokro', 'shagamu', 'tafo', 'jimeta', 'impfondo', 'kishi', 'savalou', 'mushie', 'bangui', 'guider', 'lolodorf', 'madingou', 'moanda', 'pindiga', 'vogan', 'lafia', 'moundou', 'mouila', 'batie', 'igbo ora', 'ogaminana', 'evinayong', 'bassar', 'kankan', 'njinikom', 'soubre', 'sapele', 'issia', 'mfou', 'adiake', 'botro', 'batangafo', 'anyama', 'boende', 'mbigou', 'ejigbo', 'ilorin', 'oron', 'begoro', 'lola', 'kande']\n",
      "Number of cities in the list: 298\n"
     ]
    }
   ],
   "source": [
    "# Empty list for holding the latitude and longitude combinations\n",
    "lat_lngs = []\n",
    "\n",
    "# Empty list for holding the cities names\n",
    "cities = []\n",
    "\n",
    "# Range of latitudes and longitudes\n",
    "lat_range = (-10, 10)\n",
    "lng_range = (-20, 20)\n",
    "\n",
    "# Create a set of random lat and lng combinations\n",
    "lats = np.random.uniform(lat_range[0], lat_range[1], size=1500)\n",
    "lngs = np.random.uniform(lng_range[0], lng_range[1], size=1500)\n",
    "lat_lngs = zip(lats, lngs)\n",
    "\n",
    "# Identify nearest city for each lat, lng combination\n",
    "for lat_lng in lat_lngs:\n",
    "    city = citipy.nearest_city(lat_lng[0], lat_lng[1]).city_name\n",
    "    \n",
    "    # If the city is unique, then add it to a our cities list\n",
    "    if city not in cities:\n",
    "        cities.append(city)\n",
    "\n",
    "# Print the city count to confirm sufficient count\n",
    "print(cities)\n",
    "print(f\"Number of cities in the list: {len(cities)}\")"
   ]
  },
  {
   "cell_type": "code",
   "execution_count": null,
   "id": "02e5b004",
   "metadata": {},
   "outputs": [],
   "source": []
  }
 ],
 "metadata": {
  "kernelspec": {
   "display_name": "PythonData",
   "language": "python",
   "name": "pythondata"
  },
  "language_info": {
   "codemirror_mode": {
    "name": "ipython",
    "version": 3
   },
   "file_extension": ".py",
   "mimetype": "text/x-python",
   "name": "python",
   "nbconvert_exporter": "python",
   "pygments_lexer": "ipython3",
   "version": "3.9.13"
  }
 },
 "nbformat": 4,
 "nbformat_minor": 5
}
